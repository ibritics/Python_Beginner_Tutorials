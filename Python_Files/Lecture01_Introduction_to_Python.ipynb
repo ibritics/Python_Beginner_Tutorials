{
  "nbformat": 4,
  "nbformat_minor": 0,
  "metadata": {
    "colab": {
      "provenance": [],
      "toc_visible": true,
      "authorship_tag": "ABX9TyMbnoKE7gWcA+G122kBs/yC"
    },
    "kernelspec": {
      "name": "python3",
      "display_name": "Python 3"
    },
    "language_info": {
      "name": "python"
    }
  },
  "cells": [
    {
      "cell_type": "markdown",
      "source": [
        "# Introduction to Python"
      ],
      "metadata": {
        "id": "PwaAB6m8Ycyc"
      }
    },
    {
      "cell_type": "markdown",
      "source": [
        "## Variables"
      ],
      "metadata": {
        "id": "ADFYIDn3Yi9m"
      }
    },
    {
      "cell_type": "markdown",
      "source": [
        "Type of the variables:\n",
        "\n",
        "\n",
        "*   Text/String (\"Mariia\")\n",
        "*   Integer (1)\n",
        "*   Float (1.2)\n",
        "*   Boolean (1 or 0, True or False)\n",
        "\n",
        "\n",
        "\n",
        "\n",
        "\n"
      ],
      "metadata": {
        "id": "cx6DpHYNYpzs"
      }
    },
    {
      "cell_type": "code",
      "execution_count": null,
      "metadata": {
        "id": "DczjIf18YExq"
      },
      "outputs": [],
      "source": [
        "name =\"Lisa\""
      ]
    },
    {
      "cell_type": "code",
      "source": [
        "type(name)"
      ],
      "metadata": {
        "colab": {
          "base_uri": "https://localhost:8080/"
        },
        "id": "4g6Ku-g12VRm",
        "outputId": "c84cbb91-31e6-4124-b811-a674892737e2"
      },
      "execution_count": null,
      "outputs": [
        {
          "output_type": "execute_result",
          "data": {
            "text/plain": [
              "str"
            ]
          },
          "metadata": {},
          "execution_count": 4
        }
      ]
    },
    {
      "cell_type": "code",
      "source": [
        "print(name)"
      ],
      "metadata": {
        "colab": {
          "base_uri": "https://localhost:8080/"
        },
        "id": "ZBIyoLQgZECl",
        "outputId": "972d983d-54eb-4b5c-9d78-06b3fff41897"
      },
      "execution_count": null,
      "outputs": [
        {
          "output_type": "stream",
          "name": "stdout",
          "text": [
            "mariia\n"
          ]
        }
      ]
    },
    {
      "cell_type": "code",
      "source": [
        "print(name.title())\n",
        "print(name.lower())\n",
        "print(name.upper())"
      ],
      "metadata": {
        "colab": {
          "base_uri": "https://localhost:8080/"
        },
        "id": "aNHv9Sa_dB-N",
        "outputId": "62dc4a0c-c315-4669-8314-cc78b248eb2a"
      },
      "execution_count": null,
      "outputs": [
        {
          "output_type": "stream",
          "name": "stdout",
          "text": [
            "Mariia\n",
            "mariia\n",
            "MARIIA\n"
          ]
        }
      ]
    },
    {
      "cell_type": "code",
      "source": [
        "age = 23"
      ],
      "metadata": {
        "id": "0GdYTIpMZI4E"
      },
      "execution_count": null,
      "outputs": []
    },
    {
      "cell_type": "code",
      "source": [
        "type(age)"
      ],
      "metadata": {
        "colab": {
          "base_uri": "https://localhost:8080/"
        },
        "id": "w1JR_VIz4QFV",
        "outputId": "a63833d8-4ccf-467b-819e-7cc23f0d322c"
      },
      "execution_count": null,
      "outputs": [
        {
          "output_type": "execute_result",
          "data": {
            "text/plain": [
              "int"
            ]
          },
          "metadata": {},
          "execution_count": 19
        }
      ]
    },
    {
      "cell_type": "code",
      "source": [
        "print(age)"
      ],
      "metadata": {
        "colab": {
          "base_uri": "https://localhost:8080/"
        },
        "id": "m1GQ4cIoZMEN",
        "outputId": "aefa7dfa-0b7e-4e3d-f0d8-52661b5344b8"
      },
      "execution_count": null,
      "outputs": [
        {
          "output_type": "stream",
          "name": "stdout",
          "text": [
            "23\n"
          ]
        }
      ]
    },
    {
      "cell_type": "code",
      "source": [
        "surname = \"Adams\""
      ],
      "metadata": {
        "id": "Y2Nvhw-WZVML"
      },
      "execution_count": null,
      "outputs": []
    },
    {
      "cell_type": "code",
      "source": [
        "fullName= name+surname"
      ],
      "metadata": {
        "id": "Xhs1yzGiZXad"
      },
      "execution_count": null,
      "outputs": []
    },
    {
      "cell_type": "code",
      "source": [
        "print(fullName)"
      ],
      "metadata": {
        "colab": {
          "base_uri": "https://localhost:8080/"
        },
        "id": "6zfiiVaTZbL8",
        "outputId": "29b74f6b-f1d5-462d-fed1-f1cb66c62eb0"
      },
      "execution_count": null,
      "outputs": [
        {
          "output_type": "stream",
          "name": "stdout",
          "text": [
            "mariiaAdams\n"
          ]
        }
      ]
    },
    {
      "cell_type": "code",
      "source": [
        "fullName= name.title() + \" \" + surname"
      ],
      "metadata": {
        "id": "wbIZt7nfZe7M"
      },
      "execution_count": null,
      "outputs": []
    },
    {
      "cell_type": "code",
      "source": [
        "nameage= name + str(age)"
      ],
      "metadata": {
        "id": "NKkHbQD86C7z"
      },
      "execution_count": null,
      "outputs": []
    },
    {
      "cell_type": "code",
      "source": [
        "nameage"
      ],
      "metadata": {
        "colab": {
          "base_uri": "https://localhost:8080/",
          "height": 35
        },
        "id": "WkV0gGrG6TiK",
        "outputId": "628ab546-a141-45f0-bcd6-82276c58328d"
      },
      "execution_count": null,
      "outputs": [
        {
          "output_type": "execute_result",
          "data": {
            "text/plain": [
              "'mariia23'"
            ],
            "application/vnd.google.colaboratory.intrinsic+json": {
              "type": "string"
            }
          },
          "metadata": {},
          "execution_count": 35
        }
      ]
    },
    {
      "cell_type": "markdown",
      "source": [
        "## Operations with Python"
      ],
      "metadata": {
        "id": "MnVlRD4YZ-JU"
      }
    },
    {
      "cell_type": "markdown",
      "source": [
        "### +-*/"
      ],
      "metadata": {
        "id": "31oDBhLjav1t"
      }
    },
    {
      "cell_type": "code",
      "source": [
        "3+5 #Addition"
      ],
      "metadata": {
        "colab": {
          "base_uri": "https://localhost:8080/"
        },
        "id": "mHtzWrtTZ9ik",
        "outputId": "19f9f437-99c4-4db1-c9f0-a2fb85c15014"
      },
      "execution_count": null,
      "outputs": [
        {
          "output_type": "execute_result",
          "data": {
            "text/plain": [
              "8"
            ]
          },
          "metadata": {},
          "execution_count": 36
        }
      ]
    },
    {
      "cell_type": "code",
      "source": [
        "5-2 #Substaction"
      ],
      "metadata": {
        "colab": {
          "base_uri": "https://localhost:8080/"
        },
        "id": "Iv4id0dlatR-",
        "outputId": "77122806-4f66-4b5e-8051-6108a2074993"
      },
      "execution_count": null,
      "outputs": [
        {
          "output_type": "execute_result",
          "data": {
            "text/plain": [
              "3"
            ]
          },
          "metadata": {},
          "execution_count": 37
        }
      ]
    },
    {
      "cell_type": "code",
      "source": [
        "3*2 #Multiplication"
      ],
      "metadata": {
        "colab": {
          "base_uri": "https://localhost:8080/"
        },
        "id": "UXnUGKETaSGs",
        "outputId": "5e4df13c-7f1c-42dc-a6a3-dbecad10d186"
      },
      "execution_count": null,
      "outputs": [
        {
          "output_type": "execute_result",
          "data": {
            "text/plain": [
              "6"
            ]
          },
          "metadata": {},
          "execution_count": 38
        }
      ]
    },
    {
      "cell_type": "code",
      "source": [
        "10/2 #Division"
      ],
      "metadata": {
        "colab": {
          "base_uri": "https://localhost:8080/"
        },
        "id": "vemY-pDTaTYs",
        "outputId": "8030388d-4292-448e-86fa-e8bc5319d3a5"
      },
      "execution_count": null,
      "outputs": [
        {
          "output_type": "execute_result",
          "data": {
            "text/plain": [
              "5.0"
            ]
          },
          "metadata": {},
          "execution_count": 39
        }
      ]
    },
    {
      "cell_type": "code",
      "source": [
        "3+5*2 #Python follows the operational rules"
      ],
      "metadata": {
        "colab": {
          "base_uri": "https://localhost:8080/"
        },
        "id": "RwChDZ6Aa8UM",
        "outputId": "89184a55-65e8-43da-ac14-418818a7f8a3"
      },
      "execution_count": null,
      "outputs": [
        {
          "output_type": "execute_result",
          "data": {
            "text/plain": [
              "13"
            ]
          },
          "metadata": {},
          "execution_count": 40
        }
      ]
    },
    {
      "cell_type": "markdown",
      "source": [
        "### Power"
      ],
      "metadata": {
        "id": "EV7SQA4ua3T1"
      }
    },
    {
      "cell_type": "code",
      "source": [
        "3**2 #3 power 2"
      ],
      "metadata": {
        "colab": {
          "base_uri": "https://localhost:8080/"
        },
        "id": "isd4T17JaPPU",
        "outputId": "02678205-95c4-4a0f-ac65-870fcce32b64"
      },
      "execution_count": null,
      "outputs": [
        {
          "output_type": "execute_result",
          "data": {
            "text/plain": [
              "9"
            ]
          },
          "metadata": {},
          "execution_count": 41
        }
      ]
    },
    {
      "cell_type": "markdown",
      "source": [
        "### Reminders"
      ],
      "metadata": {
        "id": "RucDkYcdahr8"
      }
    },
    {
      "cell_type": "code",
      "source": [
        "10%2 #What is the remainder after division to 2"
      ],
      "metadata": {
        "colab": {
          "base_uri": "https://localhost:8080/"
        },
        "id": "8ZyL1sEVafmk",
        "outputId": "47ed303f-06d8-480e-cb77-ef9dbf3ce0d8"
      },
      "execution_count": null,
      "outputs": [
        {
          "output_type": "execute_result",
          "data": {
            "text/plain": [
              "0"
            ]
          },
          "metadata": {},
          "execution_count": 42
        }
      ]
    },
    {
      "cell_type": "code",
      "source": [
        "11%2"
      ],
      "metadata": {
        "colab": {
          "base_uri": "https://localhost:8080/"
        },
        "id": "wKvQEPRSacnM",
        "outputId": "a93d4b4e-296c-406f-cd1b-1f0f2c2dd6f0"
      },
      "execution_count": null,
      "outputs": [
        {
          "output_type": "execute_result",
          "data": {
            "text/plain": [
              "1"
            ]
          },
          "metadata": {},
          "execution_count": 43
        }
      ]
    },
    {
      "cell_type": "markdown",
      "source": [
        "### Middle Value"
      ],
      "metadata": {
        "id": "KHYKTTbMaois"
      }
    },
    {
      "cell_type": "code",
      "source": [
        "21/11"
      ],
      "metadata": {
        "colab": {
          "base_uri": "https://localhost:8080/"
        },
        "id": "xCPClRMEabPF",
        "outputId": "85cdaebc-a011-4787-ed74-8967cebe119d"
      },
      "execution_count": null,
      "outputs": [
        {
          "output_type": "execute_result",
          "data": {
            "text/plain": [
              "1.9090909090909092"
            ]
          },
          "metadata": {},
          "execution_count": 48
        }
      ]
    },
    {
      "cell_type": "code",
      "source": [
        "round(21/11 )"
      ],
      "metadata": {
        "colab": {
          "base_uri": "https://localhost:8080/"
        },
        "id": "9SNwbrS8bdIV",
        "outputId": "30b3fc2a-3410-404b-fea8-91b312f0e2b3"
      },
      "execution_count": null,
      "outputs": [
        {
          "output_type": "execute_result",
          "data": {
            "text/plain": [
              "2"
            ]
          },
          "metadata": {},
          "execution_count": 46
        }
      ]
    },
    {
      "cell_type": "code",
      "source": [
        "21//11 #What is the next integer to the float"
      ],
      "metadata": {
        "colab": {
          "base_uri": "https://localhost:8080/"
        },
        "id": "HyDBX3hmaVsk",
        "outputId": "29f3e5ab-d7e8-43a1-ee9f-872a61e2a165"
      },
      "execution_count": null,
      "outputs": [
        {
          "output_type": "execute_result",
          "data": {
            "text/plain": [
              "1"
            ]
          },
          "metadata": {},
          "execution_count": 47
        }
      ]
    },
    {
      "cell_type": "code",
      "source": [
        "int(21/11)"
      ],
      "metadata": {
        "colab": {
          "base_uri": "https://localhost:8080/"
        },
        "id": "fDKWPM4eb-tV",
        "outputId": "5f8f4d79-d632-47aa-e63b-15171630c8d3"
      },
      "execution_count": null,
      "outputs": [
        {
          "output_type": "execute_result",
          "data": {
            "text/plain": [
              "1"
            ]
          },
          "metadata": {},
          "execution_count": 49
        }
      ]
    },
    {
      "cell_type": "markdown",
      "source": [
        "## Lists"
      ],
      "metadata": {
        "id": "LNen3UBqcErs"
      }
    },
    {
      "cell_type": "markdown",
      "source": [
        "You can put anything you want into a list, and the items in your list don’t have to be related in any particular way. Because\n",
        "a list usually contains more than one element, it’s a good idea to make the\n",
        "name of your list plural, such as letters, digits, or names."
      ],
      "metadata": {
        "id": "ND-tO0rEcrak"
      }
    },
    {
      "cell_type": "code",
      "source": [
        "bicycles = ['trek', 'cannondale', 'redline', 'specialized']"
      ],
      "metadata": {
        "id": "wOwrGzAncL1w"
      },
      "execution_count": null,
      "outputs": []
    },
    {
      "cell_type": "code",
      "source": [
        "print(bicycles)"
      ],
      "metadata": {
        "colab": {
          "base_uri": "https://localhost:8080/"
        },
        "id": "uaYjBwCccZ6M",
        "outputId": "70adbaa7-4cda-4c42-ff8c-2788c609ed80"
      },
      "execution_count": null,
      "outputs": [
        {
          "output_type": "stream",
          "name": "stdout",
          "text": [
            "['trek', 'cannondale', 'redline', 'specialized']\n"
          ]
        }
      ]
    },
    {
      "cell_type": "markdown",
      "source": [
        "### Accessing Elements in a List"
      ],
      "metadata": {
        "id": "jh5tISjzcyBV"
      }
    },
    {
      "cell_type": "code",
      "source": [
        "print(bicycles[0]) #or bicycles[0]"
      ],
      "metadata": {
        "colab": {
          "base_uri": "https://localhost:8080/"
        },
        "id": "Sj-0HYkRczg6",
        "outputId": "a749765e-7dfc-4bfd-8f08-2332161a3d0b"
      },
      "execution_count": null,
      "outputs": [
        {
          "output_type": "stream",
          "name": "stdout",
          "text": [
            "trek\n"
          ]
        }
      ]
    },
    {
      "cell_type": "code",
      "source": [
        "print(\"My first bike was \" + bicycles[2]) #You can access to the list also within specific context"
      ],
      "metadata": {
        "colab": {
          "base_uri": "https://localhost:8080/"
        },
        "id": "iwIXFKMcc6L0",
        "outputId": "603449d4-3abe-477c-9825-9d53ac31b166"
      },
      "execution_count": null,
      "outputs": [
        {
          "output_type": "stream",
          "name": "stdout",
          "text": [
            "My first bike was redline\n"
          ]
        }
      ]
    },
    {
      "cell_type": "markdown",
      "source": [
        "### Modifying Elements in a List"
      ],
      "metadata": {
        "id": "jQeHN230ds6t"
      }
    },
    {
      "cell_type": "code",
      "source": [
        "name= 'John'"
      ],
      "metadata": {
        "id": "_XCFw81K9f6O"
      },
      "execution_count": null,
      "outputs": []
    },
    {
      "cell_type": "code",
      "source": [
        "print(name)"
      ],
      "metadata": {
        "colab": {
          "base_uri": "https://localhost:8080/"
        },
        "id": "8hV32dYt9ix8",
        "outputId": "cdf884f2-82d4-40bc-929a-a906e77e40b2"
      },
      "execution_count": null,
      "outputs": [
        {
          "output_type": "stream",
          "name": "stdout",
          "text": [
            "John\n"
          ]
        }
      ]
    },
    {
      "cell_type": "code",
      "source": [
        "motorcycles = ['honda', 'yamaha', 'suzuki']\n",
        "\n",
        "print(motorcycles)\n",
        "motorcycles[0] = 'ducati'\n",
        "print(motorcycles)"
      ],
      "metadata": {
        "colab": {
          "base_uri": "https://localhost:8080/"
        },
        "id": "ShOQoe3NduFy",
        "outputId": "78eac2d2-be16-4b4d-fa6b-cbe381b8db53"
      },
      "execution_count": null,
      "outputs": [
        {
          "output_type": "stream",
          "name": "stdout",
          "text": [
            "['honda', 'yamaha', 'suzuki']\n",
            "['ducati', 'yamaha', 'suzuki']\n"
          ]
        }
      ]
    },
    {
      "cell_type": "code",
      "source": [
        "motorcycles[0] = motorcycles[0].title()"
      ],
      "metadata": {
        "id": "2x3vnNAqd3Uv"
      },
      "execution_count": null,
      "outputs": []
    },
    {
      "cell_type": "code",
      "source": [
        "print(motorcycles)"
      ],
      "metadata": {
        "colab": {
          "base_uri": "https://localhost:8080/"
        },
        "id": "iO0gBlwMd9l9",
        "outputId": "bfe46ce2-b5dd-49a9-8e03-6acf11c8aaec"
      },
      "execution_count": null,
      "outputs": [
        {
          "output_type": "stream",
          "name": "stdout",
          "text": [
            "['Ducati', 'yamaha', 'suzuki']\n"
          ]
        }
      ]
    },
    {
      "cell_type": "markdown",
      "source": [
        "### Adding Elements to a List"
      ],
      "metadata": {
        "id": "n6ii7O91eAGE"
      }
    },
    {
      "cell_type": "markdown",
      "source": [
        "When you append an item to a list, the new element is added to the end\n",
        "of the list."
      ],
      "metadata": {
        "id": "1mJS5i0JeUjt"
      }
    },
    {
      "cell_type": "code",
      "source": [
        "motorcycles.append('harley')\n",
        "print(motorcycles)"
      ],
      "metadata": {
        "colab": {
          "base_uri": "https://localhost:8080/"
        },
        "id": "QbTG0emfeDrB",
        "outputId": "9edc87a3-ccc0-404b-f505-b624a406acc9"
      },
      "execution_count": null,
      "outputs": [
        {
          "output_type": "stream",
          "name": "stdout",
          "text": [
            "['Ducati', 'yamaha', 'suzuki', 'harley']\n"
          ]
        }
      ]
    },
    {
      "cell_type": "markdown",
      "source": [
        "You can add a new element at any position in your list by using the insert()\n",
        "method. You do this by specifying the index of the new element and the\n",
        "value of the new item."
      ],
      "metadata": {
        "id": "1H5c4VmieVrF"
      }
    },
    {
      "cell_type": "code",
      "source": [
        "motorcycles.insert(0, 'BMW')\n",
        "print(motorcycles)"
      ],
      "metadata": {
        "colab": {
          "base_uri": "https://localhost:8080/"
        },
        "id": "VARikCUyeY-l",
        "outputId": "f80e0f4e-054d-446c-8918-8d1ba819bf71"
      },
      "execution_count": null,
      "outputs": [
        {
          "output_type": "stream",
          "name": "stdout",
          "text": [
            "['BMW', 'Ducati', 'yamaha', 'suzuki', 'harley']\n"
          ]
        }
      ]
    },
    {
      "cell_type": "markdown",
      "source": [
        "### Removing Elements from a List"
      ],
      "metadata": {
        "id": "K5QHzBgMekDN"
      }
    },
    {
      "cell_type": "markdown",
      "source": [
        "del method removes the element in indicated index"
      ],
      "metadata": {
        "id": "JA3XsOdFe1pG"
      }
    },
    {
      "cell_type": "code",
      "source": [
        "del motorcycles[1]\n",
        "print(motorcycles)"
      ],
      "metadata": {
        "colab": {
          "base_uri": "https://localhost:8080/"
        },
        "id": "TkgeG-l4emvd",
        "outputId": "d1d43195-f656-46df-9918-cce1051cbf25"
      },
      "execution_count": null,
      "outputs": [
        {
          "output_type": "stream",
          "name": "stdout",
          "text": [
            "['BMW', 'yamaha', 'suzuki', 'harley']\n"
          ]
        }
      ]
    },
    {
      "cell_type": "markdown",
      "source": [
        "The pop() method removes the last item in a list,"
      ],
      "metadata": {
        "id": "KldAcZoIe09N"
      }
    },
    {
      "cell_type": "code",
      "source": [
        "popped_motorcycle = motorcycles.pop()\n",
        "print(motorcycles)\n",
        "print(popped_motorcycle)"
      ],
      "metadata": {
        "colab": {
          "base_uri": "https://localhost:8080/"
        },
        "id": "ru9FuKaseunl",
        "outputId": "7e76e710-545f-46b3-b5ee-99a2c2fa8107"
      },
      "execution_count": null,
      "outputs": [
        {
          "output_type": "stream",
          "name": "stdout",
          "text": [
            "['BMW', 'yamaha', 'suzuki']\n",
            "harley\n"
          ]
        }
      ]
    },
    {
      "cell_type": "markdown",
      "source": [
        "You can actually use pop() to remove an item in a list at any position by\n",
        "including the index of the item you want to remove in parentheses."
      ],
      "metadata": {
        "id": "EKBHQg_qfN-l"
      }
    },
    {
      "cell_type": "code",
      "source": [
        "first_owned = motorcycles.pop(0)\n",
        "print('The first motorcycle I owned was a ' + first_owned.title() + '.')"
      ],
      "metadata": {
        "colab": {
          "base_uri": "https://localhost:8080/"
        },
        "id": "slq1u9bXfRE9",
        "outputId": "6ed1cdaa-22fc-46a1-b5c6-aaf9ff3eb099"
      },
      "execution_count": null,
      "outputs": [
        {
          "output_type": "stream",
          "name": "stdout",
          "text": [
            "The first motorcycle I owned was a Bmw.\n"
          ]
        }
      ]
    },
    {
      "cell_type": "markdown",
      "source": [
        "### Removing an Item by Value"
      ],
      "metadata": {
        "id": "UoUC4jrafe3U"
      }
    },
    {
      "cell_type": "code",
      "source": [
        "motorcycles.remove('suzuki')\n",
        "print(motorcycles)"
      ],
      "metadata": {
        "colab": {
          "base_uri": "https://localhost:8080/"
        },
        "id": "8b7g1EgZfbST",
        "outputId": "b874eeff-e020-419c-b79a-a8bf08c03efa"
      },
      "execution_count": null,
      "outputs": [
        {
          "output_type": "stream",
          "name": "stdout",
          "text": [
            "['BMW', 'yamaha', 'harley']\n"
          ]
        }
      ]
    },
    {
      "cell_type": "code",
      "source": [
        "sold_moto = 'yamaha'\n",
        "motorcycles.remove(sold_moto)\n",
        "print(motorcycles)"
      ],
      "metadata": {
        "colab": {
          "base_uri": "https://localhost:8080/"
        },
        "id": "V9j3F-waf5zt",
        "outputId": "85580ba0-8e1d-4783-94e9-36f0376afae8"
      },
      "execution_count": null,
      "outputs": [
        {
          "output_type": "stream",
          "name": "stdout",
          "text": [
            "['harley']\n"
          ]
        }
      ]
    },
    {
      "cell_type": "markdown",
      "source": [
        "The remove() method deletes only the first occurrence of the value you specify. If there’s\n",
        "a possibility the value appears more than once in the list, you’ll need to use a loop to\n",
        "determine if all occurrences of the value have been removed."
      ],
      "metadata": {
        "id": "FPYhdAxNf5A1"
      }
    },
    {
      "cell_type": "markdown",
      "source": [
        "## Working with Numbers"
      ],
      "metadata": {
        "id": "bBrrGCrYizme"
      }
    },
    {
      "cell_type": "code",
      "source": [
        "numbers = [5, 2, 9, 1, 7, 3, 8]"
      ],
      "metadata": {
        "id": "yVyD1aR2i2pn"
      },
      "execution_count": null,
      "outputs": []
    },
    {
      "cell_type": "code",
      "source": [
        "type(numbers)"
      ],
      "metadata": {
        "colab": {
          "base_uri": "https://localhost:8080/"
        },
        "id": "8Zwc3g0dAq34",
        "outputId": "80a93532-d0f2-41e3-8992-7073b45e4368"
      },
      "execution_count": null,
      "outputs": [
        {
          "output_type": "execute_result",
          "data": {
            "text/plain": [
              "list"
            ]
          },
          "metadata": {},
          "execution_count": 70
        }
      ]
    },
    {
      "cell_type": "markdown",
      "source": [
        "### Sorting"
      ],
      "metadata": {
        "id": "_oTiVtO3jez1"
      }
    },
    {
      "cell_type": "code",
      "source": [
        "numbers.sort()"
      ],
      "metadata": {
        "id": "Umhoyp2Xi409"
      },
      "execution_count": null,
      "outputs": []
    },
    {
      "cell_type": "code",
      "source": [
        "numbers"
      ],
      "metadata": {
        "colab": {
          "base_uri": "https://localhost:8080/"
        },
        "id": "nI7CTS_zi8Ns",
        "outputId": "90274ff6-1add-4175-c516-a0052319f56c"
      },
      "execution_count": null,
      "outputs": [
        {
          "output_type": "execute_result",
          "data": {
            "text/plain": [
              "[1, 2, 3, 5, 7, 8, 9]"
            ]
          },
          "metadata": {},
          "execution_count": 72
        }
      ]
    },
    {
      "cell_type": "markdown",
      "source": [
        "### Finding the length"
      ],
      "metadata": {
        "id": "ebfPjT-SjlDf"
      }
    },
    {
      "cell_type": "code",
      "source": [
        "len(numbers)"
      ],
      "metadata": {
        "colab": {
          "base_uri": "https://localhost:8080/"
        },
        "id": "bMUj8SWSi9kM",
        "outputId": "40e80d11-6f4b-4025-a61c-134f68fe711b"
      },
      "execution_count": null,
      "outputs": [
        {
          "output_type": "execute_result",
          "data": {
            "text/plain": [
              "7"
            ]
          },
          "metadata": {},
          "execution_count": 67
        }
      ]
    },
    {
      "cell_type": "code",
      "source": [
        "length= len(numbers)"
      ],
      "metadata": {
        "id": "K55th4ZujC4d"
      },
      "execution_count": null,
      "outputs": []
    },
    {
      "cell_type": "markdown",
      "source": [
        "### Finding the reminder"
      ],
      "metadata": {
        "id": "CRat3E-ejoVW"
      }
    },
    {
      "cell_type": "code",
      "source": [
        "length%2 #If the value is divided to 2 the reminder is 0 otherwise 1"
      ],
      "metadata": {
        "colab": {
          "base_uri": "https://localhost:8080/"
        },
        "id": "Pd2uNEFkjMiU",
        "outputId": "a2bc5e1c-2d56-4f5d-d26b-81c1edba4c24"
      },
      "execution_count": null,
      "outputs": [
        {
          "output_type": "execute_result",
          "data": {
            "text/plain": [
              "1"
            ]
          },
          "metadata": {},
          "execution_count": 74
        }
      ]
    },
    {
      "cell_type": "markdown",
      "source": [
        "## Calculating the mean (average)"
      ],
      "metadata": {
        "id": "fMjZdYp0j47e"
      }
    },
    {
      "cell_type": "markdown",
      "source": [
        "Average formula is sum of all numbers divided to the sum of the number of items in a list"
      ],
      "metadata": {
        "id": "_tB7ejmnknqd"
      }
    },
    {
      "cell_type": "code",
      "source": [
        "total_sum = sum(numbers)\n",
        "print(total_sum)"
      ],
      "metadata": {
        "colab": {
          "base_uri": "https://localhost:8080/"
        },
        "id": "sf0XQfbQjdhl",
        "outputId": "c06db14c-6b3c-494d-e711-5682ea2ec25c"
      },
      "execution_count": null,
      "outputs": [
        {
          "output_type": "stream",
          "name": "stdout",
          "text": [
            "35\n"
          ]
        }
      ]
    },
    {
      "cell_type": "code",
      "source": [
        "mean = total_sum/length\n",
        "print(mean)"
      ],
      "metadata": {
        "colab": {
          "base_uri": "https://localhost:8080/"
        },
        "id": "gYr6SMoZkCVn",
        "outputId": "16dc9e3d-c5cd-4279-b14f-4f226f5080b6"
      },
      "execution_count": null,
      "outputs": [
        {
          "output_type": "stream",
          "name": "stdout",
          "text": [
            "5.0\n"
          ]
        }
      ]
    },
    {
      "cell_type": "code",
      "source": [
        "import numpy as np\n",
        "mean = np.mean(numbers)\n",
        "print(mean)"
      ],
      "metadata": {
        "colab": {
          "base_uri": "https://localhost:8080/"
        },
        "id": "vqBZnn0mk_6G",
        "outputId": "f0012763-06c5-4f57-ed11-22c48a2dccc2"
      },
      "execution_count": null,
      "outputs": [
        {
          "output_type": "stream",
          "name": "stdout",
          "text": [
            "5.0\n"
          ]
        }
      ]
    },
    {
      "cell_type": "markdown",
      "source": [
        "## Calculating the median"
      ],
      "metadata": {
        "id": "81PbGiqClOnF"
      }
    },
    {
      "cell_type": "markdown",
      "source": [
        "Median is a central point. Median is used in order to avoid the sensibility to the outliers. On boxplot the median is a 50% central point."
      ],
      "metadata": {
        "id": "K2gthRY-lUV-"
      }
    },
    {
      "cell_type": "code",
      "source": [
        "numbers = [5, 2, 9, 1, 7, 3, 8]\n",
        "\n",
        "#numbers= sorted(numbers) #This alternative needs to be assigned to the original list because sorted() creates a temporary sorted list\n"
      ],
      "metadata": {
        "id": "yeTFEg2vlIwH"
      },
      "execution_count": null,
      "outputs": []
    },
    {
      "cell_type": "markdown",
      "source": [
        "Step 1 Sort"
      ],
      "metadata": {
        "id": "fbbu895al4uW"
      }
    },
    {
      "cell_type": "code",
      "source": [
        "numbers.sort()  #step 1 sort the values\n",
        "print(numbers)"
      ],
      "metadata": {
        "colab": {
          "base_uri": "https://localhost:8080/"
        },
        "id": "S3fwaV0gl5Zv",
        "outputId": "9817bd16-8929-4c46-feb5-8db776c746f8"
      },
      "execution_count": null,
      "outputs": [
        {
          "output_type": "stream",
          "name": "stdout",
          "text": [
            "[1, 2, 3, 5, 7, 8, 9]\n"
          ]
        }
      ]
    },
    {
      "cell_type": "markdown",
      "source": [
        "Step 2: Find the length"
      ],
      "metadata": {
        "id": "I7WR2Uc-mZlu"
      }
    },
    {
      "cell_type": "code",
      "source": [
        "n = len(numbers)"
      ],
      "metadata": {
        "id": "puutsm82meKe"
      },
      "execution_count": null,
      "outputs": []
    },
    {
      "cell_type": "markdown",
      "source": [
        "Step 3: Find whether it's odd (1,3,5) or even (2,4,6) using the **if else** function"
      ],
      "metadata": {
        "id": "NegL6JUumFbK"
      }
    },
    {
      "cell_type": "code",
      "source": [
        "if n % 2 == 1:\n",
        "    print('odd')\n",
        "else:\n",
        "   print('even')"
      ],
      "metadata": {
        "colab": {
          "base_uri": "https://localhost:8080/"
        },
        "id": "Xku6-Q-SmPy_",
        "outputId": "71e21ca1-6f1d-4fa3-ed1d-f97ab3588166"
      },
      "execution_count": null,
      "outputs": [
        {
          "output_type": "stream",
          "name": "stdout",
          "text": [
            "odd\n"
          ]
        }
      ]
    },
    {
      "cell_type": "markdown",
      "source": [
        "Step 4: Find the central value"
      ],
      "metadata": {
        "id": "NqZqLYM_nGY-"
      }
    },
    {
      "cell_type": "code",
      "source": [
        "if n % 2 == 1:\n",
        "    # If there is an odd number of elements, the median is the middle value\n",
        "    median = numbers[n // 2]\n",
        "else:\n",
        "    # If there is an even number of elements, the median is the average of the two middle values\n",
        "    middle1 = numbers[n // 2 - 1]\n",
        "    middle2 = numbers[n // 2]\n",
        "    median = (middle1 + middle2) / 2\n",
        "\n",
        "# Print the median\n",
        "print(\"Median:\", median)"
      ],
      "metadata": {
        "colab": {
          "base_uri": "https://localhost:8080/"
        },
        "id": "OTJjqicNnLIq",
        "outputId": "b6ee7b2a-52cd-44d4-d6dc-f1957302e624"
      },
      "execution_count": null,
      "outputs": [
        {
          "output_type": "stream",
          "name": "stdout",
          "text": [
            "Median: 1\n"
          ]
        }
      ]
    },
    {
      "cell_type": "code",
      "source": [
        "numbers = [5, 2, 9, 1, 7, 8]\n",
        "numbers.sort() #Step 1\n",
        "n = len(numbers) #Step 2\n",
        "if n % 2 == 1:  #Step 3\n",
        "    median = numbers[n // 2]\n",
        "else:\n",
        "    middle1 = numbers[n // 2 - 1]\n",
        "    middle2 = numbers[n // 2]\n",
        "    median = (middle1 + middle2) / 2\n",
        "print(\"Median:\", median)"
      ],
      "metadata": {
        "colab": {
          "base_uri": "https://localhost:8080/"
        },
        "id": "gOkLVsA-nZZ-",
        "outputId": "f570a3d4-42c4-4218-fe26-2769b60c8498"
      },
      "execution_count": null,
      "outputs": [
        {
          "output_type": "stream",
          "name": "stdout",
          "text": [
            "Median: 6.0\n"
          ]
        }
      ]
    },
    {
      "cell_type": "code",
      "source": [
        "print(numbers)"
      ],
      "metadata": {
        "colab": {
          "base_uri": "https://localhost:8080/"
        },
        "id": "mlNWqfJfngIm",
        "outputId": "3382971d-f4ba-4d48-90c9-e211ad6063e8"
      },
      "execution_count": null,
      "outputs": [
        {
          "output_type": "execute_result",
          "data": {
            "text/plain": [
              "[1, 2, 5, 7, 8, 9]"
            ]
          },
          "metadata": {},
          "execution_count": 91
        }
      ]
    },
    {
      "cell_type": "code",
      "source": [
        "(5+7)/2"
      ],
      "metadata": {
        "colab": {
          "base_uri": "https://localhost:8080/"
        },
        "id": "OaZBNIkfn5Xk",
        "outputId": "2e1d2b1e-5990-4dfb-8521-e021b35b3c41"
      },
      "execution_count": null,
      "outputs": [
        {
          "output_type": "execute_result",
          "data": {
            "text/plain": [
              "6.0"
            ]
          },
          "metadata": {},
          "execution_count": 93
        }
      ]
    },
    {
      "cell_type": "markdown",
      "source": [
        "Or you can use numpy library"
      ],
      "metadata": {
        "id": "BZBTCZnRw15G"
      }
    },
    {
      "cell_type": "code",
      "source": [
        "median = np.median(numbers)\n",
        "print(\"Median:\", median)"
      ],
      "metadata": {
        "colab": {
          "base_uri": "https://localhost:8080/"
        },
        "id": "XB1jjXViwvYM",
        "outputId": "ff3c9bd5-190b-41c7-b085-6cf892030a41"
      },
      "execution_count": null,
      "outputs": [
        {
          "output_type": "stream",
          "name": "stdout",
          "text": [
            "Median: 5.0\n"
          ]
        }
      ]
    },
    {
      "cell_type": "markdown",
      "source": [
        "## If Statment"
      ],
      "metadata": {
        "id": "4v0anHucw84P"
      }
    },
    {
      "cell_type": "code",
      "source": [
        "age= 76"
      ],
      "metadata": {
        "id": "SlmLn2MqxBCD"
      },
      "execution_count": null,
      "outputs": []
    },
    {
      "cell_type": "code",
      "source": [
        "if age<18:\n",
        "  print('Not Allowed to drink')\n",
        "else:\n",
        "  print('Allowed to drink')"
      ],
      "metadata": {
        "colab": {
          "base_uri": "https://localhost:8080/"
        },
        "id": "I2QnZ8LpxE_T",
        "outputId": "b89516db-03c0-4dd1-badf-1f738c485c0a"
      },
      "execution_count": null,
      "outputs": [
        {
          "output_type": "stream",
          "name": "stdout",
          "text": [
            "Allowed to drink\n"
          ]
        }
      ]
    },
    {
      "cell_type": "code",
      "source": [
        "if age<18:\n",
        "  print('Not Allowed to drink')\n",
        "elif age>18 and age<75:\n",
        "  print('Allowed to drink')\n",
        "else:\n",
        "  print('not allowed to drink')"
      ],
      "metadata": {
        "colab": {
          "base_uri": "https://localhost:8080/"
        },
        "id": "2eDLRJb1xbCE",
        "outputId": "4ee510cf-de64-463f-b101-b039820891f1"
      },
      "execution_count": null,
      "outputs": [
        {
          "output_type": "stream",
          "name": "stdout",
          "text": [
            "not allowed to drink\n"
          ]
        }
      ]
    },
    {
      "cell_type": "markdown",
      "source": [
        "## For Loop"
      ],
      "metadata": {
        "id": "rf5bqP1Krma3"
      }
    },
    {
      "cell_type": "code",
      "source": [
        "cities = [\"barcelona\", \"Los Angeles\", \"chicago\", \"Houston\", \"miami\"]"
      ],
      "metadata": {
        "id": "WFSEyOv8rta9"
      },
      "execution_count": null,
      "outputs": []
    },
    {
      "cell_type": "markdown",
      "source": [
        "Itering with values"
      ],
      "metadata": {
        "id": "mg8Oa54xso_9"
      }
    },
    {
      "cell_type": "code",
      "source": [
        "for i in cities:\n",
        "    print(i)"
      ],
      "metadata": {
        "colab": {
          "base_uri": "https://localhost:8080/"
        },
        "id": "ZAgQZKvdr5bP",
        "outputId": "82c308d0-8a24-4357-a058-3d0659931aef"
      },
      "execution_count": null,
      "outputs": [
        {
          "output_type": "stream",
          "name": "stdout",
          "text": [
            "barcelona\n",
            "Los Angeles\n",
            "chicago\n",
            "Houston\n",
            "miami\n"
          ]
        }
      ]
    },
    {
      "cell_type": "markdown",
      "source": [
        "Itering with index"
      ],
      "metadata": {
        "id": "6j8s7_uysr1T"
      }
    },
    {
      "cell_type": "code",
      "source": [
        "for i in range(len(cities)):\n",
        "    print(cities[i])"
      ],
      "metadata": {
        "colab": {
          "base_uri": "https://localhost:8080/"
        },
        "id": "hRkbSqbDsMiZ",
        "outputId": "3c972435-d4c3-4dc9-c6f6-f04e44989ee1"
      },
      "execution_count": null,
      "outputs": [
        {
          "output_type": "stream",
          "name": "stdout",
          "text": [
            "barcelona\n",
            "Los Angeles\n",
            "chicago\n",
            "Houston\n",
            "miami\n"
          ]
        }
      ]
    },
    {
      "cell_type": "code",
      "source": [
        "for i in range(len(cities)):\n",
        "    print(f\"City at index {i}: {cities[i]}\")"
      ],
      "metadata": {
        "colab": {
          "base_uri": "https://localhost:8080/"
        },
        "id": "cJ6oI0QCsz95",
        "outputId": "402afa68-ce40-4195-bfc5-78537dd1e80c"
      },
      "execution_count": null,
      "outputs": [
        {
          "output_type": "stream",
          "name": "stdout",
          "text": [
            "City at index 0: barcelona\n",
            "City at index 1: Los Angeles\n",
            "City at index 2: chicago\n",
            "City at index 3: Houston\n",
            "City at index 4: miami\n"
          ]
        }
      ]
    },
    {
      "cell_type": "markdown",
      "source": [
        "Ups! Some cities should be corrected and written with capital letters."
      ],
      "metadata": {
        "id": "l-7WmCRYtKkM"
      }
    },
    {
      "cell_type": "code",
      "source": [
        "for i in range(len(cities)):\n",
        "    cities[i] = cities[i].title()"
      ],
      "metadata": {
        "id": "nMCkpyJCs5Or"
      },
      "execution_count": null,
      "outputs": []
    },
    {
      "cell_type": "code",
      "source": [
        "print(cities)"
      ],
      "metadata": {
        "colab": {
          "base_uri": "https://localhost:8080/"
        },
        "id": "09JcB-mgtjf7",
        "outputId": "c36e0b72-8a56-4fb1-d6a6-ef412240975f"
      },
      "execution_count": null,
      "outputs": [
        {
          "output_type": "stream",
          "name": "stdout",
          "text": [
            "['Barcelona', 'Los Angeles', 'Chicago', 'Houston', 'Miami']\n"
          ]
        }
      ]
    },
    {
      "cell_type": "markdown",
      "source": [
        "Creating the logic. You should have a flag which indicates whether you have achieved a result or not."
      ],
      "metadata": {
        "id": "Ez7IIT-kt9-w"
      }
    },
    {
      "cell_type": "code",
      "source": [
        "city_to_check = \"chicago\"\n",
        "found = 0\n",
        "for city in cities:\n",
        "    if city == city_to_check:\n",
        "        found = 1\n",
        "        break\n",
        "if found==1:\n",
        "    print(f\"\\n{city_to_check} is in the list.\")\n",
        "else:\n",
        "    print(f\"\\n{city_to_check} is not in the list.\")"
      ],
      "metadata": {
        "colab": {
          "base_uri": "https://localhost:8080/"
        },
        "id": "L5FcjRXOtzn8",
        "outputId": "75d574c8-fdf2-4697-9d0b-18f8ea80a2ce"
      },
      "execution_count": null,
      "outputs": [
        {
          "output_type": "stream",
          "name": "stdout",
          "text": [
            "\n",
            "chicago is not in the list.\n"
          ]
        }
      ]
    },
    {
      "cell_type": "markdown",
      "source": [
        "You can also use boolean approach. In this case found as it is means found == True"
      ],
      "metadata": {
        "id": "CfhYDvECuFFG"
      }
    },
    {
      "cell_type": "code",
      "source": [
        "city_to_check = \"Chicago\"\n",
        "found = False\n",
        "for city in cities:\n",
        "    if city == city_to_check:\n",
        "        found = True\n",
        "        break\n",
        "if found:\n",
        "    print(f\"\\n{city_to_check} is in the list.\")\n",
        "else:\n",
        "    print(f\"\\n{city_to_check} is not in the list.\")"
      ],
      "metadata": {
        "colab": {
          "base_uri": "https://localhost:8080/"
        },
        "id": "2NN-sJbEtnvZ",
        "outputId": "de9d4ac8-a01a-49ad-8c46-2ea200126491"
      },
      "execution_count": null,
      "outputs": [
        {
          "output_type": "stream",
          "name": "stdout",
          "text": [
            "\n",
            "Chicago is in the list.\n"
          ]
        }
      ]
    },
    {
      "cell_type": "markdown",
      "source": [
        "### List Comprehension"
      ],
      "metadata": {
        "id": "7L1J3IYDvEfH"
      }
    },
    {
      "cell_type": "code",
      "source": [
        "new_list = [i.upper() for i in cities]\n",
        "print(new_list)"
      ],
      "metadata": {
        "colab": {
          "base_uri": "https://localhost:8080/"
        },
        "id": "w7KfY9LQvwkn",
        "outputId": "3efed9c5-a92d-4e06-daf2-3fcfa8198d60"
      },
      "execution_count": null,
      "outputs": [
        {
          "output_type": "stream",
          "name": "stdout",
          "text": [
            "['BARCELONA', 'LOS ANGELES', 'CHICAGO', 'HOUSTON', 'MIAMI']\n"
          ]
        }
      ]
    },
    {
      "cell_type": "code",
      "source": [
        "for i in range(len(cities)):\n",
        "  cities[i] = cities[i].upper()\n",
        "print(cities)"
      ],
      "metadata": {
        "colab": {
          "base_uri": "https://localhost:8080/"
        },
        "id": "0UeXRzD0vGZd",
        "outputId": "9bc84acb-248d-4e39-bbd6-f482d6a47bde"
      },
      "execution_count": null,
      "outputs": [
        {
          "output_type": "stream",
          "name": "stdout",
          "text": [
            "['BARCELONA', 'LOS ANGELES', 'CHICAGO', 'HOUSTON', 'MIAMI']\n"
          ]
        }
      ]
    }
  ]
}
