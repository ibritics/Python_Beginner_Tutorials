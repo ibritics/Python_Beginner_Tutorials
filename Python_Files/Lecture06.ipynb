{
  "cells": [
    {
      "cell_type": "markdown",
      "metadata": {
        "id": "view-in-github",
        "colab_type": "text"
      },
      "source": [
        "<a href=\"https://colab.research.google.com/github/ibritics/Python_DataAnalytics_Tutorials/blob/main/Python_Files/Lecture06.ipynb\" target=\"_parent\"><img src=\"https://colab.research.google.com/assets/colab-badge.svg\" alt=\"Open In Colab\"/></a>"
      ]
    },
    {
      "cell_type": "markdown",
      "metadata": {
        "id": "pztsRTHpYgZb"
      },
      "source": [
        "# A/B Testing"
      ]
    },
    {
      "cell_type": "markdown",
      "metadata": {
        "id": "GSWUqzajfFpY"
      },
      "source": [
        "## Connecting to the Drive"
      ]
    },
    {
      "cell_type": "markdown",
      "metadata": {
        "id": "6FIlPrPYh_m3"
      },
      "source": [
        "## Import a data and explore it"
      ]
    },
    {
      "cell_type": "markdown",
      "metadata": {
        "id": "PU79hq3VLNgY"
      },
      "source": [
        "In this tutorial, we will simulate an A/B test scenario to analyze the impact of performance bonuses on employee retention within an organization. We want to determine if providing performance bonuses (Plan B) leads to higher employee retention compared to not providing bonuses (Plan A).\n",
        "https://blog.hubspot.com/marketing/how-to-do-a-b-testing"
      ]
    },
    {
      "cell_type": "code",
      "execution_count": 1,
      "metadata": {
        "colab": {
          "base_uri": "https://localhost:8080/"
        },
        "id": "HNhdNIKYhI38",
        "outputId": "eca10b2e-7491-4421-a205-7ebe35fe5962"
      },
      "outputs": [
        {
          "output_type": "stream",
          "name": "stdout",
          "text": [
            "  Plan  Retention\n",
            "0    A   0.774908\n",
            "1    A   0.890143\n",
            "2    A   0.846399\n",
            "3    A   0.819732\n",
            "4    A   0.731204\n"
          ]
        }
      ],
      "source": [
        "import pandas as pd\n",
        "import numpy as np\n",
        "\n",
        "np.random.seed(42)\n",
        "\n",
        "# Simulate data for Plan A (no bonuses) and Plan B (with bonuses)\n",
        "plan_a_retention = np.random.uniform(0.7, 0.9, size=1000)\n",
        "plan_b_retention = np.random.uniform(0.75, 0.95, size=1000)\n",
        "\n",
        "# Create DataFrames for the two groups\n",
        "data_a = pd.DataFrame({'Plan': 'A', 'Retention': plan_a_retention})\n",
        "data_b = pd.DataFrame({'Plan': 'B', 'Retention': plan_b_retention})\n",
        "\n",
        "# Combine data into one DataFrame\n",
        "data = pd.concat([data_a, data_b])\n",
        "\n",
        "# Display the first few rows\n",
        "print(data.head())"
      ]
    },
    {
      "cell_type": "code",
      "execution_count": 2,
      "metadata": {
        "colab": {
          "base_uri": "https://localhost:8080/"
        },
        "id": "wjl2JqDpo47U",
        "outputId": "c7f155a2-3811-4e52-b87f-82c141253932"
      },
      "outputs": [
        {
          "output_type": "stream",
          "name": "stdout",
          "text": [
            "Reject the null hypothesis. Plan B has a statistically significant impact on employee retention.\n"
          ]
        }
      ],
      "source": [
        "from scipy.stats import ttest_ind\n",
        "\n",
        "# Separate data into Plan A and Plan B\n",
        "group_a = data[data['Plan'] == 'A']['Retention']\n",
        "group_b = data[data['Plan'] == 'B']['Retention']\n",
        "\n",
        "# Perform a t-test\n",
        "t_stat, p_value = ttest_ind(group_a, group_b)\n",
        "\n",
        "# Define significance level\n",
        "alpha = 0.05\n",
        "\n",
        "# Check for statistical significance\n",
        "if p_value < alpha:\n",
        "    print(\"Reject the null hypothesis. Plan B has a statistically significant impact on employee retention.\")\n",
        "else:\n",
        "    print(\"Fail to reject the null hypothesis. No significant impact on retention.\")"
      ]
    },
    {
      "cell_type": "code",
      "execution_count": 3,
      "metadata": {
        "colab": {
          "base_uri": "https://localhost:8080/",
          "height": 472
        },
        "id": "Bu69zOuEpA_U",
        "outputId": "e9f54beb-1699-41f0-b09e-1be4d563c024"
      },
      "outputs": [
        {
          "output_type": "display_data",
          "data": {
            "text/plain": [
              "<Figure size 640x480 with 1 Axes>"
            ],
            "image/png": "[encoded data removed]"
          },
          "metadata": {}
        }
      ],
      "source": [
        "import matplotlib.pyplot as plt\n",
        "\n",
        "# Create density histograms for Plan A and Plan B\n",
        "plt.hist(group_a, bins=20, alpha=0.5, label='Plan A', color='lightblue', density=True)\n",
        "plt.hist(group_b, bins=20, alpha=0.5, label='Plan B', color='lightcoral', density=True)\n",
        "plt.xlabel('Retention Rate')\n",
        "plt.ylabel('Density')\n",
        "plt.title('Employee Retention Rate Comparison')\n",
        "plt.legend()\n",
        "plt.show()\n"
      ]
    },
    {
      "cell_type": "markdown",
      "metadata": {
        "id": "x_jyFRJaurrA"
      },
      "source": [
        "# Text Analysis"
      ]
    },
    {
      "cell_type": "code",
      "execution_count": 4,
      "metadata": {
        "id": "on7XXgd2woct",
        "colab": {
          "base_uri": "https://localhost:8080/"
        },
        "outputId": "ca170db0-b655-4d00-900d-e205f5251df3"
      },
      "outputs": [
        {
          "output_type": "stream",
          "name": "stdout",
          "text": [
            "Mounted at /content/drive\n"
          ]
        }
      ],
      "source": [
        "import pandas as pd\n",
        "from google.colab import drive\n",
        "drive.mount('/content/drive')"
      ]
    },
    {
      "cell_type": "code",
      "execution_count": 5,
      "metadata": {
        "id": "QEFVKu6qutVB"
      },
      "outputs": [],
      "source": [
        "df= pd.read_csv('/content/drive/MyDrive/Preply/Mariia/Data/customer_service.csv' )"
      ]
    },
    {
      "cell_type": "code",
      "execution_count": 6,
      "metadata": {
        "colab": {
          "base_uri": "https://localhost:8080/",
          "height": 206
        },
        "id": "Gpq02qw1wlm-",
        "outputId": "df894482-af55-4bd9-81c3-ba7e767d68a9"
      },
      "outputs": [
        {
          "output_type": "execute_result",
          "data": {
            "text/plain": [
              "  weekday month  date  year                                               text\n",
              "0     Thu   Oct     1  2015  @mjdout I know that can be frustrating..we hop...\n",
              "1     Thu   Oct     1  2015  @rmarkerm Terribly sorry for the inconvenience...\n",
              "2     Thu   Oct     1  2015  @checho85  I can check, pls follow and DM your...\n",
              "3     Thu   Oct     1  2015  @nealaa ...Alerts, pls check here: http://t.co...\n",
              "4     Thu   Oct     1  2015  @nealaa ...advisory has only been issued for t..."
            ],
            "text/html": [
              "\n",
              "  <div id=\"df-4a21fa6b-ab90-4750-a463-e1cac0566925\" class=\"colab-df-container\">\n",
              "    <div>\n",
              "<style scoped>\n",
              "    .dataframe tbody tr th:only-of-type {\n",
              "        vertical-align: middle;\n",
              "    }\n",
              "\n",
              "    .dataframe tbody tr th {\n",
              "        vertical-align: top;\n",
              "    }\n",
              "\n",
              "    .dataframe thead th {\n",
              "        text-align: right;\n",
              "    }\n",
              "</style>\n",
              "<table border=\"1\" class=\"dataframe\">\n",
              "  <thead>\n",
              "    <tr style=\"text-align: right;\">\n",
              "      <th></th>\n",
              "      <th>weekday</th>\n",
              "      <th>month</th>\n",
              "      <th>date</th>\n",
              "      <th>year</th>\n",
              "      <th>text</th>\n",
              "    </tr>\n",
              "  </thead>\n",
              "  <tbody>\n",
              "    <tr>\n",
              "      <th>0</th>\n",
              "      <td>Thu</td>\n",
              "      <td>Oct</td>\n",
              "      <td>1</td>\n",
              "      <td>2015</td>\n",
              "      <td>@mjdout I know that can be frustrating..we hop...</td>\n",
              "    </tr>\n",
              "    <tr>\n",
              "      <th>1</th>\n",
              "      <td>Thu</td>\n",
              "      <td>Oct</td>\n",
              "      <td>1</td>\n",
              "      <td>2015</td>\n",
              "      <td>@rmarkerm Terribly sorry for the inconvenience...</td>\n",
              "    </tr>\n",
              "    <tr>\n",
              "      <th>2</th>\n",
              "      <td>Thu</td>\n",
              "      <td>Oct</td>\n",
              "      <td>1</td>\n",
              "      <td>2015</td>\n",
              "      <td>@checho85  I can check, pls follow and DM your...</td>\n",
              "    </tr>\n",
              "    <tr>\n",
              "      <th>3</th>\n",
              "      <td>Thu</td>\n",
              "      <td>Oct</td>\n",
              "      <td>1</td>\n",
              "      <td>2015</td>\n",
              "      <td>@nealaa ...Alerts, pls check here: http://t.co...</td>\n",
              "    </tr>\n",
              "    <tr>\n",
              "      <th>4</th>\n",
              "      <td>Thu</td>\n",
              "      <td>Oct</td>\n",
              "      <td>1</td>\n",
              "      <td>2015</td>\n",
              "      <td>@nealaa ...advisory has only been issued for t...</td>\n",
              "    </tr>\n",
              "  </tbody>\n",
              "</table>\n",
              "</div>\n",
              "    <div class=\"colab-df-buttons\">\n",
              "\n",
              "  <div class=\"colab-df-container\">\n",
              "    <button class=\"colab-df-convert\" onclick=\"convertToInteractive('df-4a21fa6b-ab90-4750-a463-e1cac0566925')\"\n",
              "            title=\"Convert this dataframe to an interactive table.\"\n",
              "            style=\"display:none;\">\n",
              "\n",
              "  <svg xmlns=\"http://www.w3.org/2000/svg\" height=\"24px\" viewBox=\"0 -960 960 960\">\n",
              "    <path d=\"M120-120v-720h720v720H120Zm60-500h600v-160H180v160Zm220 220h160v-160H400v160Zm0 220h160v-160H400v160ZM180-400h160v-160H180v160Zm440 0h160v-160H620v160ZM180-180h160v-160H180v160Zm440 0h160v-160H620v160Z\"/>\n",
              "  </svg>\n",
              "    </button>\n",
              "\n",
              "  <style>\n",
              "    .colab-df-container {\n",
              "      display:flex;\n",
              "      gap: 12px;\n",
              "    }\n",
              "\n",
              "    .colab-df-convert {\n",
              "      background-color: #E8F0FE;\n",
              "      border: none;\n",
              "      border-radius: 50%;\n",
              "      cursor: pointer;\n",
              "      display: none;\n",
              "      fill: #1967D2;\n",
              "      height: 32px;\n",
              "      padding: 0 0 0 0;\n",
              "      width: 32px;\n",
              "    }\n",
              "\n",
              "    .colab-df-convert:hover {\n",
              "      background-color: #E2EBFA;\n",
              "      box-shadow: 0px 1px 2px rgba(60, 64, 67, 0.3), 0px 1px 3px 1px rgba(60, 64, 67, 0.15);\n",
              "      fill: #174EA6;\n",
              "    }\n",
              "\n",
              "    .colab-df-buttons div {\n",
              "      margin-bottom: 4px;\n",
              "    }\n",
              "\n",
              "    [theme=dark] .colab-df-convert {\n",
              "      background-color: #3B4455;\n",
              "      fill: #D2E3FC;\n",
              "    }\n",
              "\n",
              "    [theme=dark] .colab-df-convert:hover {\n",
              "      background-color: #434B5C;\n",
              "      box-shadow: 0px 1px 3px 1px rgba(0, 0, 0, 0.15);\n",
              "      filter: drop-shadow(0px 1px 2px rgba(0, 0, 0, 0.3));\n",
              "      fill: #FFFFFF;\n",
              "    }\n",
              "  </style>\n",
              "\n",
              "    <script>\n",
              "      const buttonEl =\n",
              "        document.querySelector('#df-4a21fa6b-ab90-4750-a463-e1cac0566925 button.colab-df-convert');\n",
              "      buttonEl.style.display =\n",
              "        google.colab.kernel.accessAllowed ? 'block' : 'none';\n",
              "\n",
              "      async function convertToInteractive(key) {\n",
              "        const element = document.querySelector('#df-4a21fa6b-ab90-4750-a463-e1cac0566925');\n",
              "        const dataTable =\n",
              "          await google.colab.kernel.invokeFunction('convertToInteractive',\n",
              "                                                    [key], {});\n",
              "        if (!dataTable) return;\n",
              "\n",
              "        const docLinkHtml = 'Like what you see? Visit the ' +\n",
              "          '<a target=\"_blank\" href=https://colab.research.google.com/notebooks/data_table.ipynb>data table notebook</a>'\n",
              "          + ' to learn more about interactive tables.';\n",
              "        element.innerHTML = '';\n",
              "        dataTable['output_type'] = 'display_data';\n",
              "        await google.colab.output.renderOutput(dataTable, element);\n",
              "        const docLink = document.createElement('div');\n",
              "        docLink.innerHTML = docLinkHtml;\n",
              "        element.appendChild(docLink);\n",
              "      }\n",
              "    </script>\n",
              "  </div>\n",
              "\n",
              "\n",
              "<div id=\"df-6b0be107-6da8-49a2-9a76-2dc1c07b50da\">\n",
              "  <button class=\"colab-df-quickchart\" onclick=\"quickchart('df-6b0be107-6da8-49a2-9a76-2dc1c07b50da')\"\n",
              "            title=\"Suggest charts.\"\n",
              "            style=\"display:none;\">\n",
              "\n",
              "<svg xmlns=\"http://www.w3.org/2000/svg\" height=\"24px\"viewBox=\"0 0 24 24\"\n",
              "     width=\"24px\">\n",
              "    <g>\n",
              "        <path d=\"M19 3H5c-1.1 0-2 .9-2 2v14c0 1.1.9 2 2 2h14c1.1 0 2-.9 2-2V5c0-1.1-.9-2-2-2zM9 17H7v-7h2v7zm4 0h-2V7h2v10zm4 0h-2v-4h2v4z\"/>\n",
              "    </g>\n",
              "</svg>\n",
              "  </button>\n",
              "\n",
              "<style>\n",
              "  .colab-df-quickchart {\n",
              "      --bg-color: #E8F0FE;\n",
              "      --fill-color: #1967D2;\n",
              "      --hover-bg-color: #E2EBFA;\n",
              "      --hover-fill-color: #174EA6;\n",
              "      --disabled-fill-color: #AAA;\n",
              "      --disabled-bg-color: #DDD;\n",
              "  }\n",
              "\n",
              "  [theme=dark] .colab-df-quickchart {\n",
              "      --bg-color: #3B4455;\n",
              "      --fill-color: #D2E3FC;\n",
              "      --hover-bg-color: #434B5C;\n",
              "      --hover-fill-color: #FFFFFF;\n",
              "      --disabled-bg-color: #3B4455;\n",
              "      --disabled-fill-color: #666;\n",
              "  }\n",
              "\n",
              "  .colab-df-quickchart {\n",
              "    background-color: var(--bg-color);\n",
              "    border: none;\n",
              "    border-radius: 50%;\n",
              "    cursor: pointer;\n",
              "    display: none;\n",
              "    fill: var(--fill-color);\n",
              "    height: 32px;\n",
              "    padding: 0;\n",
              "    width: 32px;\n",
              "  }\n",
              "\n",
              "  .colab-df-quickchart:hover {\n",
              "    background-color: var(--hover-bg-color);\n",
              "    box-shadow: 0 1px 2px rgba(60, 64, 67, 0.3), 0 1px 3px 1px rgba(60, 64, 67, 0.15);\n",
              "    fill: var(--button-hover-fill-color);\n",
              "  }\n",
              "\n",
              "  .colab-df-quickchart-complete:disabled,\n",
              "  .colab-df-quickchart-complete:disabled:hover {\n",
              "    background-color: var(--disabled-bg-color);\n",
              "    fill: var(--disabled-fill-color);\n",
              "    box-shadow: none;\n",
              "  }\n",
              "\n",
              "  .colab-df-spinner {\n",
              "    border: 2px solid var(--fill-color);\n",
              "    border-color: transparent;\n",
              "    border-bottom-color: var(--fill-color);\n",
              "    animation:\n",
              "      spin 1s steps(1) infinite;\n",
              "  }\n",
              "\n",
              "  @keyframes spin {\n",
              "    0% {\n",
              "      border-color: transparent;\n",
              "      border-bottom-color: var(--fill-color);\n",
              "      border-left-color: var(--fill-color);\n",
              "    }\n",
              "    20% {\n",
              "      border-color: transparent;\n",
              "      border-left-color: var(--fill-color);\n",
              "      border-top-color: var(--fill-color);\n",
              "    }\n",
              "    30% {\n",
              "      border-color: transparent;\n",
              "      border-left-color: var(--fill-color);\n",
              "      border-top-color: var(--fill-color);\n",
              "      border-right-color: var(--fill-color);\n",
              "    }\n",
              "    40% {\n",
              "      border-color: transparent;\n",
              "      border-right-color: var(--fill-color);\n",
              "      border-top-color: var(--fill-color);\n",
              "    }\n",
              "    60% {\n",
              "      border-color: transparent;\n",
              "      border-right-color: var(--fill-color);\n",
              "    }\n",
              "    80% {\n",
              "      border-color: transparent;\n",
              "      border-right-color: var(--fill-color);\n",
              "      border-bottom-color: var(--fill-color);\n",
              "    }\n",
              "    90% {\n",
              "      border-color: transparent;\n",
              "      border-bottom-color: var(--fill-color);\n",
              "    }\n",
              "  }\n",
              "</style>\n",
              "\n",
              "  <script>\n",
              "    async function quickchart(key) {\n",
              "      const quickchartButtonEl =\n",
              "        document.querySelector('#' + key + ' button');\n",
              "      quickchartButtonEl.disabled = true;  // To prevent multiple clicks.\n",
              "      quickchartButtonEl.classList.add('colab-df-spinner');\n",
              "      try {\n",
              "        const charts = await google.colab.kernel.invokeFunction(\n",
              "            'suggestCharts', [key], {});\n",
              "      } catch (error) {\n",
              "        console.error('Error during call to suggestCharts:', error);\n",
              "      }\n",
              "      quickchartButtonEl.classList.remove('colab-df-spinner');\n",
              "      quickchartButtonEl.classList.add('colab-df-quickchart-complete');\n",
              "    }\n",
              "    (() => {\n",
              "      let quickchartButtonEl =\n",
              "        document.querySelector('#df-6b0be107-6da8-49a2-9a76-2dc1c07b50da button');\n",
              "      quickchartButtonEl.style.display =\n",
              "        google.colab.kernel.accessAllowed ? 'block' : 'none';\n",
              "    })();\n",
              "  </script>\n",
              "</div>\n",
              "    </div>\n",
              "  </div>\n"
            ]
          },
          "metadata": {},
          "execution_count": 6
        }
      ],
      "source": [
        "df.head()"
      ]
    },
    {
      "cell_type": "code",
      "execution_count": 7,
      "metadata": {
        "id": "CWlh1qZtyECu",
        "colab": {
          "base_uri": "https://localhost:8080/"
        },
        "outputId": "4513ce3f-9eb3-42c6-b75e-5dd4d8cbf129"
      },
      "outputs": [
        {
          "output_type": "stream",
          "name": "stdout",
          "text": [
            "<class 'pandas.core.frame.DataFrame'>\n",
            "RangeIndex: 1377 entries, 0 to 1376\n",
            "Data columns (total 5 columns):\n",
            " #   Column   Non-Null Count  Dtype \n",
            "---  ------   --------------  ----- \n",
            " 0   weekday  1377 non-null   object\n",
            " 1   month    1377 non-null   object\n",
            " 2   date     1377 non-null   int64 \n",
            " 3   year     1377 non-null   int64 \n",
            " 4   text     1377 non-null   object\n",
            "dtypes: int64(2), object(3)\n",
            "memory usage: 53.9+ KB\n"
          ]
        }
      ],
      "source": [
        "df.info()"
      ]
    },
    {
      "cell_type": "markdown",
      "source": [
        "Q1: What is the average length of a social customer service reply?"
      ],
      "metadata": {
        "id": "cCq1lkug1hlH"
      }
    },
    {
      "cell_type": "code",
      "source": [
        "df['text'].str.len()"
      ],
      "metadata": {
        "colab": {
          "base_uri": "https://localhost:8080/"
        },
        "id": "sUjgQmKq1Yyn",
        "outputId": "bb5393d6-7723-48c2-b8e3-725450a98639"
      },
      "execution_count": 8,
      "outputs": [
        {
          "output_type": "execute_result",
          "data": {
            "text/plain": [
              "0       119\n",
              "1       110\n",
              "2        78\n",
              "3        65\n",
              "4       137\n",
              "       ... \n",
              "1372     63\n",
              "1373     50\n",
              "1374    121\n",
              "1375     27\n",
              "1376     36\n",
              "Name: text, Length: 1377, dtype: int64"
            ]
          },
          "metadata": {},
          "execution_count": 8
        }
      ]
    },
    {
      "cell_type": "code",
      "source": [
        "df['text'].str.len().mean()"
      ],
      "metadata": {
        "colab": {
          "base_uri": "https://localhost:8080/"
        },
        "id": "ZmDOgQus2IQH",
        "outputId": "2fbeb726-7ccf-4217-85ce-24475ed0f7fc"
      },
      "execution_count": 9,
      "outputs": [
        {
          "output_type": "execute_result",
          "data": {
            "text/plain": [
              "92.1445170660857"
            ]
          },
          "metadata": {},
          "execution_count": 9
        }
      ]
    },
    {
      "cell_type": "markdown",
      "source": [
        "Q2: Which Agent Performes Better?\n"
      ],
      "metadata": {
        "id": "WsbkqxJk2bZm"
      }
    },
    {
      "cell_type": "code",
      "source": [
        "import re\n",
        "pattern = r'\\*(\\w+)'\n",
        "\n",
        "# Extract initials from the 'text' column and create a new 'initials' column\n",
        "df['initials'] = df['text'].str.extract(pattern)\n",
        "\n",
        "# Display the DataFrame with the 'initials' column\n",
        "print(df['initials'])"
      ],
      "metadata": {
        "colab": {
          "base_uri": "https://localhost:8080/"
        },
        "id": "o45FFygD2cVO",
        "outputId": "eceb6bb1-0375-4084-bb4f-87f0def73435"
      },
      "execution_count": 10,
      "outputs": [
        {
          "output_type": "stream",
          "name": "stdout",
          "text": [
            "0        AA\n",
            "1        AA\n",
            "2        AA\n",
            "3        JH\n",
            "4       NaN\n",
            "       ... \n",
            "1372     DD\n",
            "1373     RD\n",
            "1374     DD\n",
            "1375     DD\n",
            "1376     CM\n",
            "Name: initials, Length: 1377, dtype: object\n"
          ]
        }
      ]
    },
    {
      "cell_type": "code",
      "source": [
        "df['initials'].value_counts(sort= True).plot(kind='bar')"
      ],
      "metadata": {
        "colab": {
          "base_uri": "https://localhost:8080/",
          "height": 457
        },
        "id": "5p29jeyz8yIP",
        "outputId": "c8113bcf-16c4-474d-a7d8-f54fce606769"
      },
      "execution_count": 14,
      "outputs": [
        {
          "output_type": "execute_result",
          "data": {
            "text/plain": [
              "<Axes: >"
            ]
          },
          "metadata": {},
          "execution_count": 14
        },
        {
          "output_type": "display_data",
          "data": {
            "text/plain": [
              "<Figure size 640x480 with 1 Axes>"
            ],
            "image/png": "[encoded data removed]"
          },
          "metadata": {}
        }
      ]
    },
    {
      "cell_type": "code",
      "source": [
        "df['last_two_letters'] = df['text'].str[-2:]\n",
        "print(df['last_two_letters'])"
      ],
      "metadata": {
        "colab": {
          "base_uri": "https://localhost:8080/"
        },
        "id": "lE3qwDL68Ya9",
        "outputId": "6a0bc43b-90e1-4042-fecd-5059b5ea4c47"
      },
      "execution_count": 31,
      "outputs": [
        {
          "output_type": "stream",
          "name": "stdout",
          "text": [
            "0       AA\n",
            "1       AA\n",
            "2       AA\n",
            "3       /3\n",
            "4       /3\n",
            "        ..\n",
            "1372    DD\n",
            "1373    RD\n",
            "1374    DD\n",
            "1375    /2\n",
            "1376    CM\n",
            "Name: last_two_letters, Length: 1377, dtype: object\n"
          ]
        }
      ]
    },
    {
      "cell_type": "code",
      "source": [
        "df['text'][4]"
      ],
      "metadata": {
        "colab": {
          "base_uri": "https://localhost:8080/",
          "height": 52
        },
        "id": "EF8mT-dLL2UU",
        "outputId": "14f1f932-4337-4b02-b1da-e87948c4ea8c"
      },
      "execution_count": 39,
      "outputs": [
        {
          "output_type": "execute_result",
          "data": {
            "text/plain": [
              "'@nealaa ...advisory has only been issued for the Bahamas, but that could change.  To check for updates on Weather advisories &amp;... 2/3'"
            ],
            "application/vnd.google.colaboratory.intrinsic+json": {
              "type": "string"
            }
          },
          "metadata": {},
          "execution_count": 39
        }
      ]
    },
    {
      "cell_type": "code",
      "source": [
        "frequency_table = df.groupby('last_two_letters').size()"
      ],
      "metadata": {
        "id": "yjCCHJJH9oCo"
      },
      "execution_count": 32,
      "outputs": []
    },
    {
      "cell_type": "code",
      "source": [
        "frequency_table.head()"
      ],
      "metadata": {
        "colab": {
          "base_uri": "https://localhost:8080/"
        },
        "id": "Y-OdSbAv9_rI",
        "outputId": "86d9a2f9-2ff4-457b-e61f-b26c7dad3510"
      },
      "execution_count": 36,
      "outputs": [
        {
          "output_type": "execute_result",
          "data": {
            "text/plain": [
              "last_two_letters\n",
              "/2    267\n",
              "/3     69\n",
              "/4     11\n",
              "AA     62\n",
              "AB     42\n",
              "dtype: int64"
            ]
          },
          "metadata": {},
          "execution_count": 36
        }
      ]
    },
    {
      "cell_type": "markdown",
      "source": [
        "Q3: How help is provided (link with helpful information or direct messages)? In case of links, what links were\n",
        "referenced most often?"
      ],
      "metadata": {
        "id": "mwFK_HLs_Cgv"
      }
    },
    {
      "cell_type": "code",
      "source": [
        "pattern = r'\\b(http\\S*)\\b'\n",
        "df['link'] = df['text'].str.extract(pattern)"
      ],
      "metadata": {
        "id": "F8N_Mbf7_Bsi"
      },
      "execution_count": 61,
      "outputs": []
    },
    {
      "cell_type": "code",
      "source": [
        "df.groupby('link').size().sort_values(ascending= False)"
      ],
      "metadata": {
        "colab": {
          "base_uri": "https://localhost:8080/"
        },
        "id": "rgpvDFXfNo0N",
        "outputId": "143544c7-60b2-4b3c-cf62-eece53b421f1"
      },
      "execution_count": 53,
      "outputs": [
        {
          "output_type": "execute_result",
          "data": {
            "text/plain": [
              "link\n",
              "http://t.co/ljzlFjyL3M     6\n",
              "http://t.co/rKwjYwO72S     4\n",
              "https://t.co/IlyARPdjVN    3\n",
              "http://t.co/rKwjYwwvEi     2\n",
              "http://t.co/xpEZNKiH6W     2\n",
              "http://t.co/ZmxhkCBsLO     2\n",
              "http://t.co/nqMYdHgUQj     2\n",
              "http://t.co/pVGkVq0o4u     1\n",
              "http://t.co/gZa1XM7gct     1\n",
              "http://t.co/hYVHr8ef0v     1\n",
              "http://t.co/jF5WmVPJz1     1\n",
              "http://t.co/lVX4A4Qrpd     1\n",
              "http://t.co/oKK9xP6hxa     1\n",
              "http://t.co/0jlcZnT95Q     1\n",
              "http://t.co/epU2KKNggx     1\n",
              "http://t.co/roFfcdIAuu     1\n",
              "http://t.co/sGbqJSi1Xt     1\n",
              "http://t.co/sNIn5Equux     1\n",
              "http://t.co/smJZ6lgNwl     1\n",
              "http://t.co/ss99Yr9uYU     1\n",
              "http://t.co/svrkVIIz3T     1\n",
              "https://t.co/V4ImFwVZpA    1\n",
              "http://t.co/gFwxgqsrku     1\n",
              "http://t.co/dPlzzNCMhe     1\n",
              "http://t.co/1Y3R2vs9bg     1\n",
              "http://t.co/NjqbaYom1U     1\n",
              "http://t.co/4ExPA5eJ9z     1\n",
              "http://t.co/9H0kcm3RG8     1\n",
              "http://t.co/AKUEAIxrX3     1\n",
              "http://t.co/Dp9tC5VSuP     1\n",
              "http://t.co/EPhpxGRweX     1\n",
              "http://t.co/EcUbRXGfnl     1\n",
              "http://t.co/LXe5HfHTns     1\n",
              "http://t.co/N85Bmfc917     1\n",
              "http://t.co/P482wlZyU7     1\n",
              "http://t.co/bjyikw3x3R     1\n",
              "http://t.co/PLt6VzZj8p     1\n",
              "http://t.co/QOCsiKrrCl     1\n",
              "http://t.co/RdugUpaJGI     1\n",
              "http://t.co/SSOgvx1VKn     1\n",
              "http://t.co/VqK1qtLvTY     1\n",
              "http://t.co/WOb0KwIle2     1\n",
              "http://t.co/aRbJXOkoiY     1\n",
              "http://t.co/akUp6E5YYK     1\n",
              "https://t.co/eWaznE7qga    1\n",
              "dtype: int64"
            ]
          },
          "metadata": {},
          "execution_count": 53
        }
      ]
    },
    {
      "cell_type": "code",
      "source": [
        "round(df['link'].value_counts().sum()/len(df),3)"
      ],
      "metadata": {
        "colab": {
          "base_uri": "https://localhost:8080/"
        },
        "id": "2KDx5iQHU3IV",
        "outputId": "979b564b-2b49-48f4-ab08-9b60a2c525d4"
      },
      "execution_count": 77,
      "outputs": [
        {
          "output_type": "execute_result",
          "data": {
            "text/plain": [
              "0.043"
            ]
          },
          "metadata": {},
          "execution_count": 77
        }
      ]
    },
    {
      "cell_type": "markdown",
      "source": [
        "DM"
      ],
      "metadata": {
        "id": "gTIBB4FI9o40"
      }
    },
    {
      "cell_type": "code",
      "source": [
        "pattern = re.compile(r'dm', re.IGNORECASE)\n",
        "df['DM'] = df['text'].str.contains(pattern, regex= True)"
      ],
      "metadata": {
        "id": "-tLtt5dP9rVP"
      },
      "execution_count": 25,
      "outputs": []
    },
    {
      "cell_type": "code",
      "source": [
        "round(df['DM'].sum()/len(df),3)"
      ],
      "metadata": {
        "colab": {
          "base_uri": "https://localhost:8080/"
        },
        "id": "h4a7JWO0-MII",
        "outputId": "ac342a67-87b3-4ee6-9bed-12ba91360b5b"
      },
      "execution_count": 28,
      "outputs": [
        {
          "output_type": "execute_result",
          "data": {
            "text/plain": [
              "0.136"
            ]
          },
          "metadata": {},
          "execution_count": 28
        }
      ]
    },
    {
      "cell_type": "markdown",
      "source": [
        "Find the numbers\n",
        "\n"
      ],
      "metadata": {
        "id": "i51JoJ_yOkSb"
      }
    },
    {
      "cell_type": "code",
      "source": [
        "pattern = r'^\\d{3}-\\d{3}-\\d{4}$'"
      ],
      "metadata": {
        "id": "hLnkNcTNPUIE"
      },
      "execution_count": 56,
      "outputs": []
    },
    {
      "cell_type": "code",
      "source": [
        "pattern = r'(\\d{3}-\\d{3}-\\d{4})'\n",
        "\n",
        "# Extract matching phone numbers and store in a new 'numbers' column\n",
        "df['numbers'] = df['text'].str.extract(pattern)"
      ],
      "metadata": {
        "id": "2iTGvy5qPWvT"
      },
      "execution_count": 59,
      "outputs": []
    },
    {
      "cell_type": "code",
      "source": [
        "df.groupby('numbers').size().sort_values(ascending=False)"
      ],
      "metadata": {
        "colab": {
          "base_uri": "https://localhost:8080/"
        },
        "id": "XD6TrO3YTcoO",
        "outputId": "47da4d4c-2641-404f-cd39-2d1e1768a0ec"
      },
      "execution_count": 66,
      "outputs": [
        {
          "output_type": "execute_result",
          "data": {
            "text/plain": [
              "numbers\n",
              "800-221-1212    18\n",
              "888-750-3284    11\n",
              "800-455-2720     7\n",
              "800-325-8224     5\n",
              "866-783-2286     2\n",
              "400-120-2364     1\n",
              "773-601-1817     1\n",
              "773-686-2385     1\n",
              "773-686-6148     1\n",
              "800-323-2323     1\n",
              "877-220-6888     1\n",
              "877-350-0038     1\n",
              "904-741-2020     1\n",
              "dtype: int64"
            ]
          },
          "metadata": {},
          "execution_count": 66
        }
      ]
    },
    {
      "cell_type": "code",
      "source": [
        "df['numbers'].value_counts().sum()"
      ],
      "metadata": {
        "colab": {
          "base_uri": "https://localhost:8080/"
        },
        "id": "1IFN3uYITvkG",
        "outputId": "6dfd81b2-484b-4b56-c8bd-22fc0ba64b91"
      },
      "execution_count": 69,
      "outputs": [
        {
          "output_type": "execute_result",
          "data": {
            "text/plain": [
              "51"
            ]
          },
          "metadata": {},
          "execution_count": 69
        }
      ]
    },
    {
      "cell_type": "code",
      "source": [
        "round(df['numbers'].value_counts().sum()/len(df),3)"
      ],
      "metadata": {
        "colab": {
          "base_uri": "https://localhost:8080/"
        },
        "id": "FNcmt0LwUmPR",
        "outputId": "14538765-215f-430f-a6df-965fa0feac0d"
      },
      "execution_count": 78,
      "outputs": [
        {
          "output_type": "execute_result",
          "data": {
            "text/plain": [
              "0.037"
            ]
          },
          "metadata": {},
          "execution_count": 78
        }
      ]
    }
  ],
  "metadata": {
    "colab": {
      "provenance": [],
      "authorship_tag": "ABX9TyO/ERWFP/FStlB7luhh1UD6",
      "include_colab_link": true
    },
    "kernelspec": {
      "display_name": "Python 3",
      "name": "python3"
    },
    "language_info": {
      "name": "python"
    }
  },
  "nbformat": 4,
  "nbformat_minor": 0
}