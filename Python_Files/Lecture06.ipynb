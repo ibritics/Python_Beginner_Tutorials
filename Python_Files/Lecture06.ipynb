{
  "nbformat": 4,
  "nbformat_minor": 0,
  "metadata": {
    "colab": {
      "provenance": [],
      "authorship_tag": "ABX9TyNRlkfjqREFY1IEuY0UIa6B",
      "include_colab_link": true
    },
    "kernelspec": {
      "name": "python3",
      "display_name": "Python 3"
    },
    "language_info": {
      "name": "python"
    }
  },
  "cells": [
    {
      "cell_type": "markdown",
      "metadata": {
        "id": "view-in-github",
        "colab_type": "text"
      },
      "source": [
        "<a href=\"https://colab.research.google.com/github/ibritics/Python_DataAnalytics_Tutorials/blob/main/Lecture06.ipynb\" target=\"_parent\"><img src=\"https://colab.research.google.com/assets/colab-badge.svg\" alt=\"Open In Colab\"/></a>"
      ]
    },
    {
      "cell_type": "markdown",
      "source": [
        "# A/B Testing"
      ],
      "metadata": {
        "id": "pztsRTHpYgZb"
      }
    },
    {
      "cell_type": "markdown",
      "source": [
        "## Connecting to the Drive"
      ],
      "metadata": {
        "id": "GSWUqzajfFpY"
      }
    },
    {
      "cell_type": "markdown",
      "source": [
        "## Import a data and explore it"
      ],
      "metadata": {
        "id": "6FIlPrPYh_m3"
      }
    },
    {
      "cell_type": "markdown",
      "source": [
        "In this tutorial, we will simulate an A/B test scenario to analyze the impact of performance bonuses on employee retention within an organization. We want to determine if providing performance bonuses (Plan B) leads to higher employee retention compared to not providing bonuses (Plan A).\n",
        "https://blog.hubspot.com/marketing/how-to-do-a-b-testing"
      ],
      "metadata": {
        "id": "PU79hq3VLNgY"
      }
    },
    {
      "cell_type": "code",
      "source": [
        "import pandas as pd\n",
        "import numpy as np\n",
        "\n",
        "np.random.seed(42)\n",
        "\n",
        "# Simulate data for Plan A (no bonuses) and Plan B (with bonuses)\n",
        "plan_a_retention = np.random.uniform(0.7, 0.9, size=1000)\n",
        "plan_b_retention = np.random.uniform(0.75, 0.95, size=1000)\n",
        "\n",
        "# Create DataFrames for the two groups\n",
        "data_a = pd.DataFrame({'Plan': 'A', 'Retention': plan_a_retention})\n",
        "data_b = pd.DataFrame({'Plan': 'B', 'Retention': plan_b_retention})\n",
        "\n",
        "# Combine data into one DataFrame\n",
        "data = pd.concat([data_a, data_b])\n",
        "\n",
        "# Display the first few rows\n",
        "print(data.head())"
      ],
      "metadata": {
        "id": "HNhdNIKYhI38",
        "colab": {
          "base_uri": "https://localhost:8080/"
        },
        "outputId": "c3321173-96e9-49b2-da3a-9a1a29ebcdcc"
      },
      "execution_count": 1,
      "outputs": [
        {
          "output_type": "stream",
          "name": "stdout",
          "text": [
            "  Plan  Retention\n",
            "0    A   0.774908\n",
            "1    A   0.890143\n",
            "2    A   0.846399\n",
            "3    A   0.819732\n",
            "4    A   0.731204\n"
          ]
        }
      ]
    },
    {
      "cell_type": "code",
      "source": [
        "from scipy.stats import ttest_ind\n",
        "\n",
        "# Separate data into Plan A and Plan B\n",
        "group_a = data[data['Plan'] == 'A']['Retention']\n",
        "group_b = data[data['Plan'] == 'B']['Retention']\n",
        "\n",
        "# Perform a t-test\n",
        "t_stat, p_value = ttest_ind(group_a, group_b)\n",
        "\n",
        "# Define significance level\n",
        "alpha = 0.05\n",
        "\n",
        "# Check for statistical significance\n",
        "if p_value < alpha:\n",
        "    print(\"Reject the null hypothesis. Plan B has a statistically significant impact on employee retention.\")\n",
        "else:\n",
        "    print(\"Fail to reject the null hypothesis. No significant impact on retention.\")"
      ],
      "metadata": {
        "id": "wjl2JqDpo47U",
        "colab": {
          "base_uri": "https://localhost:8080/"
        },
        "outputId": "01aeb61d-d346-4343-b095-aeac12e9050e"
      },
      "execution_count": 2,
      "outputs": [
        {
          "output_type": "stream",
          "name": "stdout",
          "text": [
            "Reject the null hypothesis. Plan B has a statistically significant impact on employee retention.\n"
          ]
        }
      ]
    },
    {
      "cell_type": "code",
      "source": [
        "import matplotlib.pyplot as plt\n",
        "\n",
        "# Create density histograms for Plan A and Plan B\n",
        "plt.hist(group_a, bins=20, alpha=0.5, label='Plan A', color='lightblue', density=True)\n",
        "plt.hist(group_b, bins=20, alpha=0.5, label='Plan B', color='lightcoral', density=True)\n",
        "plt.xlabel('Retention Rate')\n",
        "plt.ylabel('Density')\n",
        "plt.title('Employee Retention Rate Comparison')\n",
        "plt.legend()\n",
        "plt.show()\n"
      ],
      "metadata": {
        "colab": {
          "base_uri": "https://localhost:8080/",
          "height": 472
        },
        "id": "Bu69zOuEpA_U",
        "outputId": "28aa2359-c93d-41b0-a229-43b640fa2ea0"
      },
      "execution_count": 4,
      "outputs": [
        {
          "output_type": "display_data",
          "data": {
            "text/plain": [
              "<Figure size 640x480 with 1 Axes>"
            ],
            "image/png": "[encoded data removed]"
          },
          "metadata": {}
        }
      ]
    }
  ]
}
